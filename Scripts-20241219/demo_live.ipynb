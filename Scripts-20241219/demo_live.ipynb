{
 "cells": [
  {
   "cell_type": "code",
   "execution_count": 1,
   "metadata": {},
   "outputs": [],
   "source": [
    "import yaml"
   ]
  },
  {
   "cell_type": "code",
   "execution_count": 2,
   "metadata": {},
   "outputs": [],
   "source": [
    "f = open(\"test_large.yaml\", \"r\")"
   ]
  },
  {
   "cell_type": "code",
   "execution_count": 3,
   "metadata": {},
   "outputs": [],
   "source": [
    "data = yaml.safe_load(f)"
   ]
  },
  {
   "cell_type": "code",
   "execution_count": 4,
   "metadata": {},
   "outputs": [
    {
     "data": {
      "text/plain": [
       "{'problem': {'cities': ['Oradea',\n",
       "   'Zerind',\n",
       "   'Arad',\n",
       "   'Timisoara',\n",
       "   'Lugoj',\n",
       "   'Mehadia',\n",
       "   'Drobeta',\n",
       "   'Sibiu',\n",
       "   'RimnicuVilcea',\n",
       "   'Craiova',\n",
       "   'Fagaras',\n",
       "   'Pitesti',\n",
       "   'Neamt',\n",
       "   'Bucharest',\n",
       "   'Giurgiu',\n",
       "   'Iasi',\n",
       "   'Vaslui',\n",
       "   'Urziceni',\n",
       "   'Hirsova',\n",
       "   'Eforie'],\n",
       "  'city_Oradea': {'connects_to': {'Zerind': 71, 'Sibiu': 151}},\n",
       "  'city_Zerind': {'connects_to': {'Oradea': 71, 'Arad': 75}},\n",
       "  'city_Arad': {'connects_to': {'Zerind': 75, 'Sibiu': 140, 'Timisoara': 118}},\n",
       "  'city_Timisoara': {'connects_to': {'Arad': 118, 'Lugoj': 111}},\n",
       "  'city_Lugoj': {'connects_to': {'Timisoara': 111, 'Mehadia': 70}},\n",
       "  'city_Mehadia': {'connects_to': {'Lugoj': 70, 'Drobeta': 75}},\n",
       "  'city_Drobeta': {'connects_to': {'Mehadia': 75, 'Craiova': 120}},\n",
       "  'city_Sibiu': {'connects_to': {'Oradea': 151,\n",
       "    'Arad': 140,\n",
       "    'Fagaras': 99,\n",
       "    'RimnicuVilcea': 80}},\n",
       "  'city_RimnicuVilcea': {'connects_to': {'Sibiu': 80,\n",
       "    'Craiova': 146,\n",
       "    'Pitesti': 97}},\n",
       "  'city_Craiova': {'connects_to': {'Drobeta': 120,\n",
       "    'RimnicuVilcea': 146,\n",
       "    'Pitesti': 138}},\n",
       "  'city_Fagaras': {'connects_to': {'Sibiu': 99, 'Bucharest': 211}},\n",
       "  'city_Pitesti': {'connects_to': {'RimnicuVilcea': 97,\n",
       "    'Craiova': 138,\n",
       "    'Bucharest': 101}},\n",
       "  'city_Neamt': {'connects_to': {'Iasi': 87}},\n",
       "  'city_Bucharest': {'connects_to': {'Fagaras': 211,\n",
       "    'Pitesti': 101,\n",
       "    'Giurgiu': 90,\n",
       "    'Urziceni': 85}},\n",
       "  'city_Giurgiu': {'connects_to': {'Bucharest': 90}},\n",
       "  'city_Iasi': {'connects_to': {'Neamt': 87, 'Vaslui': 92}},\n",
       "  'city_Vaslui': {'connects_to': {'Iasi': 92, 'Urziceni': 142}},\n",
       "  'city_Urziceni': {'connects_to': {'Vaslui': 142,\n",
       "    'Bucharest': 85,\n",
       "    'Hirsova': 98}},\n",
       "  'city_Hirsova': {'connects_to': {'Urziceni': 98, 'Eforie': 86}},\n",
       "  'city_Eforie': {'connects_to': {'Hirsova': 86}},\n",
       "  'city_end': 'Bucharest',\n",
       "  'city_start': 'Arad'},\n",
       " 'additional_information': {'city_Arad': {'line_of_sight_distance': 366,\n",
       "   'altitude_difference': 0},\n",
       "  'city_Bucharest': {'line_of_sight_distance': 0, 'altitude_difference': 0},\n",
       "  'city_Craiova': {'line_of_sight_distance': 160, 'altitude_difference': 0},\n",
       "  'city_Drobeta': {'line_of_sight_distance': 242, 'altitude_difference': 0},\n",
       "  'city_Eforie': {'line_of_sight_distance': 161, 'altitude_difference': 0},\n",
       "  'city_Fagaras': {'line_of_sight_distance': 176, 'altitude_difference': 0},\n",
       "  'city_Giurgiu': {'line_of_sight_distance': 77, 'altitude_difference': 0},\n",
       "  'city_Hirsova': {'line_of_sight_distance': 151, 'altitude_difference': 0},\n",
       "  'city_Iasi': {'line_of_sight_distance': 226, 'altitude_difference': 0},\n",
       "  'city_Lugoj': {'line_of_sight_distance': 244, 'altitude_difference': 0},\n",
       "  'city_Mehadia': {'line_of_sight_distance': 241, 'altitude_difference': 0},\n",
       "  'city_Neamt': {'line_of_sight_distance': 234, 'altitude_difference': 0},\n",
       "  'city_Oradea': {'line_of_sight_distance': 380, 'altitude_difference': 0},\n",
       "  'city_Pitesti': {'line_of_sight_distance': 100, 'altitude_difference': 0},\n",
       "  'city_RimnicuVilcea': {'line_of_sight_distance': 193,\n",
       "   'altitude_difference': 0},\n",
       "  'city_Sibiu': {'line_of_sight_distance': 253, 'altitude_difference': 0},\n",
       "  'city_Timisoara': {'line_of_sight_distance': 329, 'altitude_difference': 0},\n",
       "  'city_Urziceni': {'line_of_sight_distance': 80, 'altitude_difference': 0},\n",
       "  'city_Vaslui': {'line_of_sight_distance': 199, 'altitude_difference': 0},\n",
       "  'city_Zerind': {'line_of_sight_distance': 374, 'altitude_difference': 0}}}"
      ]
     },
     "execution_count": 4,
     "metadata": {},
     "output_type": "execute_result"
    }
   ],
   "source": [
    "data"
   ]
  },
  {
   "cell_type": "code",
   "execution_count": 6,
   "metadata": {},
   "outputs": [
    {
     "data": {
      "text/plain": [
       "['Oradea',\n",
       " 'Zerind',\n",
       " 'Arad',\n",
       " 'Timisoara',\n",
       " 'Lugoj',\n",
       " 'Mehadia',\n",
       " 'Drobeta',\n",
       " 'Sibiu',\n",
       " 'RimnicuVilcea',\n",
       " 'Craiova',\n",
       " 'Fagaras',\n",
       " 'Pitesti',\n",
       " 'Neamt',\n",
       " 'Bucharest',\n",
       " 'Giurgiu',\n",
       " 'Iasi',\n",
       " 'Vaslui',\n",
       " 'Urziceni',\n",
       " 'Hirsova',\n",
       " 'Eforie']"
      ]
     },
     "execution_count": 6,
     "metadata": {},
     "output_type": "execute_result"
    }
   ],
   "source": [
    "data[\"problem\"][\"cities\"]"
   ]
  },
  {
   "cell_type": "code",
   "execution_count": 53,
   "metadata": {},
   "outputs": [],
   "source": [
    "class Problem:\n",
    "    def __init__(self, data):\n",
    "        self.states = data[\"cities\"]\n",
    "        self.goal_state = data[\"city_end\"]\n",
    "        self.initial_state = data[\"city_start\"]\n",
    "        \n",
    "        self._actions = {}\n",
    "        for state in self.states:\n",
    "            self._actions[state] = {}\n",
    "            \n",
    "        #   city_Oradea:\n",
    "        #     connects_to:\n",
    "        #       Zerind: 71\n",
    "        #       Sibiu: 151\n",
    "        for state in self.states:\n",
    "            field = f\"city_{state}\"\n",
    "            if field in data:\n",
    "                if \"connects_to\" in data[field]:\n",
    "                    connections = data[field][\"connects_to\"]\n",
    "                    self._actions[state] = connections\n",
    "                    \n",
    "    def action(self, state):\n",
    "        return list(self._actions[state].keys())\n",
    "    \n",
    "    def result(self, state, action):\n",
    "        return action\n",
    "        \n",
    "    def is_goal_state(self, state):\n",
    "        return (state == self.goal_state)"
   ]
  },
  {
   "cell_type": "code",
   "execution_count": 54,
   "metadata": {},
   "outputs": [],
   "source": [
    "problem = Problem(data[\"problem\"])"
   ]
  },
  {
   "cell_type": "code",
   "execution_count": 55,
   "metadata": {},
   "outputs": [
    {
     "data": {
      "text/plain": [
       "<__main__.Problem at 0x1ccde59c348>"
      ]
     },
     "execution_count": 55,
     "metadata": {},
     "output_type": "execute_result"
    }
   ],
   "source": [
    "problem"
   ]
  },
  {
   "cell_type": "code",
   "execution_count": 56,
   "metadata": {},
   "outputs": [
    {
     "data": {
      "text/plain": [
       "['Zerind', 'Sibiu']"
      ]
     },
     "execution_count": 56,
     "metadata": {},
     "output_type": "execute_result"
    }
   ],
   "source": [
    "problem.action(\"Oradea\")"
   ]
  },
  {
   "cell_type": "code",
   "execution_count": 57,
   "metadata": {},
   "outputs": [
    {
     "data": {
      "text/plain": [
       "'Zerind'"
      ]
     },
     "execution_count": 57,
     "metadata": {},
     "output_type": "execute_result"
    }
   ],
   "source": [
    "problem.result(\"Oradea\", \"Zerind\")"
   ]
  },
  {
   "cell_type": "code",
   "execution_count": null,
   "metadata": {},
   "outputs": [],
   "source": []
  }
 ],
 "metadata": {
  "kernelspec": {
   "display_name": "Python 3",
   "language": "python",
   "name": "python3"
  },
  "language_info": {
   "codemirror_mode": {
    "name": "ipython",
    "version": 3
   },
   "file_extension": ".py",
   "mimetype": "text/x-python",
   "name": "python",
   "nbconvert_exporter": "python",
   "pygments_lexer": "ipython3",
   "version": "3.7.6"
  }
 },
 "nbformat": 4,
 "nbformat_minor": 4
}
